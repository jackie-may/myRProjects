{
 "cells": [
  {
   "cell_type": "code",
   "execution_count": 1,
   "id": "6dc193e3",
   "metadata": {},
   "outputs": [
    {
     "name": "stderr",
     "output_type": "stream",
     "text": [
      "also installing the dependencies ‘sass’, ‘httpuv’, ‘digest’, ‘htmltools’, ‘later’, ‘promises’, ‘rlang’, ‘fastmap’, ‘commonmark’, ‘glue’, ‘bslib’, ‘cachem’, ‘lifecycle’\n",
      "\n",
      "Warning message in install.packages(\"shiny\"):\n",
      "“installation of package ‘digest’ had non-zero exit status”Warning message in install.packages(\"shiny\"):\n",
      "“installation of package ‘rlang’ had non-zero exit status”Warning message in install.packages(\"shiny\"):\n",
      "“installation of package ‘fastmap’ had non-zero exit status”Warning message in install.packages(\"shiny\"):\n",
      "“installation of package ‘commonmark’ had non-zero exit status”Warning message in install.packages(\"shiny\"):\n",
      "“installation of package ‘glue’ had non-zero exit status”Warning message in install.packages(\"shiny\"):\n",
      "“installation of package ‘htmltools’ had non-zero exit status”Warning message in install.packages(\"shiny\"):\n",
      "“installation of package ‘later’ had non-zero exit status”Warning message in install.packages(\"shiny\"):\n",
      "“installation of package ‘cachem’ had non-zero exit status”Warning message in install.packages(\"shiny\"):\n",
      "“installation of package ‘lifecycle’ had non-zero exit status”Warning message in install.packages(\"shiny\"):\n",
      "“installation of package ‘sass’ had non-zero exit status”Warning message in install.packages(\"shiny\"):\n",
      "“installation of package ‘promises’ had non-zero exit status”Warning message in install.packages(\"shiny\"):\n",
      "“installation of package ‘httpuv’ had non-zero exit status”Warning message in install.packages(\"shiny\"):\n",
      "“installation of package ‘bslib’ had non-zero exit status”Warning message in install.packages(\"shiny\"):\n",
      "“installation of package ‘shiny’ had non-zero exit status”Updating HTML index of packages in '.Library'\n",
      "Making 'packages.html' ... done\n"
     ]
    }
   ],
   "source": [
    "install.packages(\"shiny\")"
   ]
  },
  {
   "cell_type": "code",
   "execution_count": null,
   "id": "cd0770b7",
   "metadata": {},
   "outputs": [],
   "source": [
    "library(shiny)\n",
    "runExample(\"01_hello\")"
   ]
  },
  {
   "cell_type": "code",
   "execution_count": null,
   "id": "a8f9e89b",
   "metadata": {},
   "outputs": [],
   "source": [
    "library(shiny)\n",
    "\n",
    "#define UI for app that draws a histogram\n",
    "ui <- fluidPage(\n",
    "\n",
    "    #app title\n",
    "    titlePanel(\"Hello Shiny\"),\n",
    "\n",
    "    #sidebar layout with input and output definitions\n",
    "    sidebarLayout(\n",
    "\n",
    "        #sidebar panel for inputs\n",
    "        sidebarPanel(\n",
    "        \n",
    "            #input: slider for the number of bins\n",
    "            sliderInput(inputID = \"bins\",\n",
    "                       label = \"Number of bins:\",\n",
    "                       min = 1,\n",
    "                       max = 50,\n",
    "                       value = 30)\n",
    "        ),\n",
    "    \n",
    "    #main panel for displaying outputs\n",
    "    mainPanel(\n",
    "    \n",
    "        #output: histogram\n",
    "        plotOutput(outputID = \"distPlot\")\n",
    ")\n",
    ")\n",
    ")"
   ]
  },
  {
   "cell_type": "code",
   "execution_count": null,
   "id": "08e20914",
   "metadata": {},
   "outputs": [],
   "source": [
    "# Define server logic required to draw a histogram ----\n",
    "server <- function(input, output) {\n",
    "\n",
    "  # Histogram of the Old Faithful Geyser Data ----\n",
    "  # with requested number of bins\n",
    "  # This expression that generates a histogram is wrapped in a call\n",
    "  # to renderPlot to indicate that:\n",
    "  #\n",
    "  # 1. It is \"reactive\" and therefore should be automatically\n",
    "  #    re-executed when inputs (input$bins) change\n",
    "  # 2. Its output type is a plot\n",
    "  output$distPlot <- renderPlot({\n",
    "\n",
    "    x    <- faithful$waiting\n",
    "    bins <- seq(min(x), max(x), length.out = input$bins + 1)\n",
    "\n",
    "    hist(x, breaks = bins, col = \"#75AADB\", border = \"white\",\n",
    "         xlab = \"Waiting time to next eruption (in mins)\",\n",
    "         main = \"Histogram of waiting times\")\n",
    "\n",
    "    })\n",
    "\n",
    "}"
   ]
  },
  {
   "cell_type": "code",
   "execution_count": 3,
   "id": "5981e9cc",
   "metadata": {},
   "outputs": [
    {
     "ename": "ERROR",
     "evalue": "Error in library(shiny): there is no package called ‘shiny’\n",
     "output_type": "error",
     "traceback": [
      "Error in library(shiny): there is no package called ‘shiny’\nTraceback:\n",
      "1. library(shiny)"
     ]
    }
   ],
   "source": [
    "library(shiny)\n",
    "\n",
    "# See above for the definitions of ui and server\n",
    "ui <- ...\n",
    "\n",
    "server <- ...\n",
    "\n",
    "shinyApp(ui = ui, server = server)"
   ]
  },
  {
   "cell_type": "code",
   "execution_count": null,
   "id": "03c5227f",
   "metadata": {},
   "outputs": [],
   "source": []
  }
 ],
 "metadata": {
  "kernelspec": {
   "display_name": "R",
   "language": "R",
   "name": "ir"
  },
  "language_info": {
   "codemirror_mode": "r",
   "file_extension": ".r",
   "mimetype": "text/x-r-source",
   "name": "R",
   "pygments_lexer": "r",
   "version": "3.6.1"
  }
 },
 "nbformat": 4,
 "nbformat_minor": 5
}
